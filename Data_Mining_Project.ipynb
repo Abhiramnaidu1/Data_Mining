{
  "nbformat": 4,
  "nbformat_minor": 0,
  "metadata": {
    "colab": {
      "name": "Data Mining Project.ipynb",
      "provenance": [],
      "collapsed_sections": [],
      "include_colab_link": true
    },
    "kernelspec": {
      "name": "python3",
      "display_name": "Python 3"
    },
    "language_info": {
      "name": "python"
    }
  },
  "cells": [
    {
      "cell_type": "markdown",
      "metadata": {
        "id": "view-in-github",
        "colab_type": "text"
      },
      "source": [
        "<a href=\"https://colab.research.google.com/github/Abhiramnaidu1/Data_Mining/blob/main/Data_Mining_Project.ipynb\" target=\"_parent\"><img src=\"https://colab.research.google.com/assets/colab-badge.svg\" alt=\"Open In Colab\"/></a>"
      ]
    },
    {
      "cell_type": "code",
      "metadata": {
        "id": "X2TF7zGnDH3t"
      },
      "source": [
        "#libraries\n",
        "\n",
        "import tensorflow as tf\n",
        "import numpy as np\n",
        "import pandas as pd\n",
        "import io\n",
        "import seaborn as sns\n",
        "sns.set(color_codes=True)\n",
        "import matplotlib.mlab as mlab\n",
        "from scipy import stats, integrate\n",
        "import seaborn as sns\n",
        "sns.set(color_codes=True)\n",
        "import warnings\n",
        "from sklearn import preprocessing\n",
        "from sklearn import linear_model\n",
        "from sklearn.model_selection import train_test_split\n",
        "from sklearn.naive_bayes import MultinomialNB\n",
        "from sklearn.metrics import confusion_matrix\n",
        "from sklearn.metrics import accuracy_score\n",
        "import matplotlib.pyplot as plt"
      ],
      "execution_count": null,
      "outputs": []
    },
    {
      "cell_type": "code",
      "metadata": {
        "id": "dEyUSrNITqNw"
      },
      "source": [
        "from sklearn.cluster import KMeans\n",
        "import pandas as pd\n",
        "from sklearn.preprocessing import MinMaxScaler\n",
        "from matplotlib import pyplot as plt"
      ],
      "execution_count": null,
      "outputs": []
    },
    {
      "cell_type": "code",
      "metadata": {
        "id": "_6RKb7zqHT7H"
      },
      "source": [
        "data = pd.read_csv(\"https://raw.githubusercontent.com/Abhiramnaidu1/Data_Mining/main/project_data.csv\", header=None)\n",
        "data = data.iloc[:,0:11]\n",
        "data.columns = ['S.no','UserId','Machine ID','Date','Start Time','End Time','Average user process','Max User Process','keystrokes','CPU usage','page']\n"
      ],
      "execution_count": null,
      "outputs": []
    },
    {
      "cell_type": "code",
      "metadata": {
        "id": "_qdAeABKMC-t",
        "colab": {
          "base_uri": "https://localhost:8080/",
          "height": 473
        },
        "outputId": "bdb2ecd2-448a-42fe-fa8e-8bfd427043ef"
      },
      "source": [
        "data"
      ],
      "execution_count": null,
      "outputs": [
        {
          "output_type": "execute_result",
          "data": {
            "text/html": [
              "<div>\n",
              "<style scoped>\n",
              "    .dataframe tbody tr th:only-of-type {\n",
              "        vertical-align: middle;\n",
              "    }\n",
              "\n",
              "    .dataframe tbody tr th {\n",
              "        vertical-align: top;\n",
              "    }\n",
              "\n",
              "    .dataframe thead th {\n",
              "        text-align: right;\n",
              "    }\n",
              "</style>\n",
              "<table border=\"1\" class=\"dataframe\">\n",
              "  <thead>\n",
              "    <tr style=\"text-align: right;\">\n",
              "      <th></th>\n",
              "      <th>S.no</th>\n",
              "      <th>UserId</th>\n",
              "      <th>Machine ID</th>\n",
              "      <th>Date</th>\n",
              "      <th>Start Time</th>\n",
              "      <th>End Time</th>\n",
              "      <th>Average user process</th>\n",
              "      <th>Max User Process</th>\n",
              "      <th>keystrokes</th>\n",
              "      <th>CPU usage</th>\n",
              "      <th>page</th>\n",
              "    </tr>\n",
              "  </thead>\n",
              "  <tbody>\n",
              "    <tr>\n",
              "      <th>0</th>\n",
              "      <td>1</td>\n",
              "      <td>U01</td>\n",
              "      <td>M01</td>\n",
              "      <td>90108</td>\n",
              "      <td>80010</td>\n",
              "      <td>170040</td>\n",
              "      <td>22</td>\n",
              "      <td>70</td>\n",
              "      <td>12345</td>\n",
              "      <td>12098</td>\n",
              "      <td>NaN</td>\n",
              "    </tr>\n",
              "    <tr>\n",
              "      <th>1</th>\n",
              "      <td>1</td>\n",
              "      <td>U03</td>\n",
              "      <td>M03</td>\n",
              "      <td>90108</td>\n",
              "      <td>82010</td>\n",
              "      <td>172040</td>\n",
              "      <td>22</td>\n",
              "      <td>70</td>\n",
              "      <td>12345</td>\n",
              "      <td>12098</td>\n",
              "      <td>NaN</td>\n",
              "    </tr>\n",
              "    <tr>\n",
              "      <th>2</th>\n",
              "      <td>1</td>\n",
              "      <td>U05</td>\n",
              "      <td>M05</td>\n",
              "      <td>90108</td>\n",
              "      <td>82310</td>\n",
              "      <td>171040</td>\n",
              "      <td>22</td>\n",
              "      <td>70</td>\n",
              "      <td>12345</td>\n",
              "      <td>12098</td>\n",
              "      <td>NaN</td>\n",
              "    </tr>\n",
              "    <tr>\n",
              "      <th>3</th>\n",
              "      <td>1</td>\n",
              "      <td>U07</td>\n",
              "      <td>M07</td>\n",
              "      <td>90108</td>\n",
              "      <td>80010</td>\n",
              "      <td>170040</td>\n",
              "      <td>22</td>\n",
              "      <td>70</td>\n",
              "      <td>12345</td>\n",
              "      <td>12098</td>\n",
              "      <td>NaN</td>\n",
              "    </tr>\n",
              "    <tr>\n",
              "      <th>4</th>\n",
              "      <td>1</td>\n",
              "      <td>U09</td>\n",
              "      <td>M09</td>\n",
              "      <td>90108</td>\n",
              "      <td>81040</td>\n",
              "      <td>170040</td>\n",
              "      <td>22</td>\n",
              "      <td>70</td>\n",
              "      <td>12345</td>\n",
              "      <td>12098</td>\n",
              "      <td>NaN</td>\n",
              "    </tr>\n",
              "    <tr>\n",
              "      <th>...</th>\n",
              "      <td>...</td>\n",
              "      <td>...</td>\n",
              "      <td>...</td>\n",
              "      <td>...</td>\n",
              "      <td>...</td>\n",
              "      <td>...</td>\n",
              "      <td>...</td>\n",
              "      <td>...</td>\n",
              "      <td>...</td>\n",
              "      <td>...</td>\n",
              "      <td>...</td>\n",
              "    </tr>\n",
              "    <tr>\n",
              "      <th>983</th>\n",
              "      <td>2</td>\n",
              "      <td>U16</td>\n",
              "      <td>M16</td>\n",
              "      <td>93008</td>\n",
              "      <td>162501</td>\n",
              "      <td>LP050</td>\n",
              "      <td>000870</td>\n",
              "      <td>F0019</td>\n",
              "      <td>RW</td>\n",
              "      <td>PR4</td>\n",
              "      <td>10</td>\n",
              "    </tr>\n",
              "    <tr>\n",
              "      <th>984</th>\n",
              "      <td>2</td>\n",
              "      <td>U17</td>\n",
              "      <td>M19</td>\n",
              "      <td>93008</td>\n",
              "      <td>162501</td>\n",
              "      <td>LP050</td>\n",
              "      <td>000870</td>\n",
              "      <td>F0019</td>\n",
              "      <td>RW</td>\n",
              "      <td>PR6</td>\n",
              "      <td>10</td>\n",
              "    </tr>\n",
              "    <tr>\n",
              "      <th>985</th>\n",
              "      <td>2</td>\n",
              "      <td>U13</td>\n",
              "      <td>M21</td>\n",
              "      <td>93008</td>\n",
              "      <td>170101</td>\n",
              "      <td>LP080</td>\n",
              "      <td>000920</td>\n",
              "      <td>F0179</td>\n",
              "      <td>R</td>\n",
              "      <td>NaN</td>\n",
              "      <td>NaN</td>\n",
              "    </tr>\n",
              "    <tr>\n",
              "      <th>986</th>\n",
              "      <td>2</td>\n",
              "      <td>U16</td>\n",
              "      <td>M16</td>\n",
              "      <td>93008</td>\n",
              "      <td>170101</td>\n",
              "      <td>LP080</td>\n",
              "      <td>000920</td>\n",
              "      <td>F0109</td>\n",
              "      <td>R</td>\n",
              "      <td>NaN</td>\n",
              "      <td>NaN</td>\n",
              "    </tr>\n",
              "    <tr>\n",
              "      <th>987</th>\n",
              "      <td>2</td>\n",
              "      <td>U17</td>\n",
              "      <td>M19</td>\n",
              "      <td>93008</td>\n",
              "      <td>170101</td>\n",
              "      <td>LP080</td>\n",
              "      <td>000920</td>\n",
              "      <td>F0109</td>\n",
              "      <td>R</td>\n",
              "      <td>NaN</td>\n",
              "      <td>NaN</td>\n",
              "    </tr>\n",
              "  </tbody>\n",
              "</table>\n",
              "<p>988 rows × 11 columns</p>\n",
              "</div>"
            ],
            "text/plain": [
              "     S.no UserId Machine ID   Date  ...  Max User Process keystrokes CPU usage page\n",
              "0       1    U01        M01  90108  ...                70      12345     12098  NaN\n",
              "1       1    U03        M03  90108  ...                70      12345     12098  NaN\n",
              "2       1    U05        M05  90108  ...                70      12345     12098  NaN\n",
              "3       1    U07        M07  90108  ...                70      12345     12098  NaN\n",
              "4       1    U09        M09  90108  ...                70      12345     12098  NaN\n",
              "..    ...    ...        ...    ...  ...               ...        ...       ...  ...\n",
              "983     2    U16        M16  93008  ...             F0019         RW       PR4   10\n",
              "984     2    U17        M19  93008  ...             F0019         RW       PR6   10\n",
              "985     2    U13        M21  93008  ...             F0179          R       NaN  NaN\n",
              "986     2    U16        M16  93008  ...             F0109          R       NaN  NaN\n",
              "987     2    U17        M19  93008  ...             F0109          R       NaN  NaN\n",
              "\n",
              "[988 rows x 11 columns]"
            ]
          },
          "metadata": {
            "tags": []
          },
          "execution_count": 54
        }
      ]
    },
    {
      "cell_type": "markdown",
      "metadata": {
        "id": "s54mPDC4fxMr"
      },
      "source": [
        "## **Login Patterns**"
      ]
    },
    {
      "cell_type": "code",
      "metadata": {
        "id": "dV7GYPyghnGt"
      },
      "source": [
        "#df_login = data[data[\"End Time\"].str.contains(\"^[0-9]\\w\")]\n",
        "df_login = data[data[\"S.no\"]==1]\n",
        "df_login =df_login.iloc[:,1:10]\n",
        "\n",
        "df_login_columns=['User_ID','Machine_ID','Date','Start_Time','End_Time','Avg_UP','Max_UP','Keystrokes','CPU_Usage']\n",
        "df_login =df_login.set_axis(df_login_columns, axis=1)"
      ],
      "execution_count": null,
      "outputs": []
    },
    {
      "cell_type": "code",
      "metadata": {
        "colab": {
          "base_uri": "https://localhost:8080/",
          "height": 439
        },
        "id": "mTEh0GtChpNW",
        "outputId": "822bce48-2ef3-4f71-fb8e-1d537d7df565"
      },
      "source": [
        "df_login"
      ],
      "execution_count": null,
      "outputs": [
        {
          "output_type": "execute_result",
          "data": {
            "text/html": [
              "<div>\n",
              "<style scoped>\n",
              "    .dataframe tbody tr th:only-of-type {\n",
              "        vertical-align: middle;\n",
              "    }\n",
              "\n",
              "    .dataframe tbody tr th {\n",
              "        vertical-align: top;\n",
              "    }\n",
              "\n",
              "    .dataframe thead th {\n",
              "        text-align: right;\n",
              "    }\n",
              "</style>\n",
              "<table border=\"1\" class=\"dataframe\">\n",
              "  <thead>\n",
              "    <tr style=\"text-align: right;\">\n",
              "      <th></th>\n",
              "      <th>User_ID</th>\n",
              "      <th>Machine_ID</th>\n",
              "      <th>Date</th>\n",
              "      <th>Start_Time</th>\n",
              "      <th>End_Time</th>\n",
              "      <th>Avg_UP</th>\n",
              "      <th>Max_UP</th>\n",
              "      <th>Keystrokes</th>\n",
              "      <th>CPU_Usage</th>\n",
              "    </tr>\n",
              "  </thead>\n",
              "  <tbody>\n",
              "    <tr>\n",
              "      <th>0</th>\n",
              "      <td>U01</td>\n",
              "      <td>M01</td>\n",
              "      <td>90108</td>\n",
              "      <td>80010</td>\n",
              "      <td>170040</td>\n",
              "      <td>22</td>\n",
              "      <td>70</td>\n",
              "      <td>12345</td>\n",
              "      <td>12098</td>\n",
              "    </tr>\n",
              "    <tr>\n",
              "      <th>1</th>\n",
              "      <td>U03</td>\n",
              "      <td>M03</td>\n",
              "      <td>90108</td>\n",
              "      <td>82010</td>\n",
              "      <td>172040</td>\n",
              "      <td>22</td>\n",
              "      <td>70</td>\n",
              "      <td>12345</td>\n",
              "      <td>12098</td>\n",
              "    </tr>\n",
              "    <tr>\n",
              "      <th>2</th>\n",
              "      <td>U05</td>\n",
              "      <td>M05</td>\n",
              "      <td>90108</td>\n",
              "      <td>82310</td>\n",
              "      <td>171040</td>\n",
              "      <td>22</td>\n",
              "      <td>70</td>\n",
              "      <td>12345</td>\n",
              "      <td>12098</td>\n",
              "    </tr>\n",
              "    <tr>\n",
              "      <th>3</th>\n",
              "      <td>U07</td>\n",
              "      <td>M07</td>\n",
              "      <td>90108</td>\n",
              "      <td>80010</td>\n",
              "      <td>170040</td>\n",
              "      <td>22</td>\n",
              "      <td>70</td>\n",
              "      <td>12345</td>\n",
              "      <td>12098</td>\n",
              "    </tr>\n",
              "    <tr>\n",
              "      <th>4</th>\n",
              "      <td>U09</td>\n",
              "      <td>M09</td>\n",
              "      <td>90108</td>\n",
              "      <td>81040</td>\n",
              "      <td>170040</td>\n",
              "      <td>22</td>\n",
              "      <td>70</td>\n",
              "      <td>12345</td>\n",
              "      <td>12098</td>\n",
              "    </tr>\n",
              "    <tr>\n",
              "      <th>...</th>\n",
              "      <td>...</td>\n",
              "      <td>...</td>\n",
              "      <td>...</td>\n",
              "      <td>...</td>\n",
              "      <td>...</td>\n",
              "      <td>...</td>\n",
              "      <td>...</td>\n",
              "      <td>...</td>\n",
              "      <td>...</td>\n",
              "    </tr>\n",
              "    <tr>\n",
              "      <th>930</th>\n",
              "      <td>U07</td>\n",
              "      <td>M07</td>\n",
              "      <td>93008</td>\n",
              "      <td>83000</td>\n",
              "      <td>173000</td>\n",
              "      <td>25</td>\n",
              "      <td>55</td>\n",
              "      <td>15455</td>\n",
              "      <td>13558</td>\n",
              "    </tr>\n",
              "    <tr>\n",
              "      <th>931</th>\n",
              "      <td>U08</td>\n",
              "      <td>M08</td>\n",
              "      <td>93008</td>\n",
              "      <td>83000</td>\n",
              "      <td>173000</td>\n",
              "      <td>25</td>\n",
              "      <td>55</td>\n",
              "      <td>15455</td>\n",
              "      <td>13558</td>\n",
              "    </tr>\n",
              "    <tr>\n",
              "      <th>932</th>\n",
              "      <td>U09</td>\n",
              "      <td>M09</td>\n",
              "      <td>93008</td>\n",
              "      <td>83000</td>\n",
              "      <td>173000</td>\n",
              "      <td>25</td>\n",
              "      <td>55</td>\n",
              "      <td>15455</td>\n",
              "      <td>13558</td>\n",
              "    </tr>\n",
              "    <tr>\n",
              "      <th>933</th>\n",
              "      <td>U10</td>\n",
              "      <td>M30</td>\n",
              "      <td>93008</td>\n",
              "      <td>83000</td>\n",
              "      <td>173000</td>\n",
              "      <td>25</td>\n",
              "      <td>55</td>\n",
              "      <td>15455</td>\n",
              "      <td>13558</td>\n",
              "    </tr>\n",
              "    <tr>\n",
              "      <th>934</th>\n",
              "      <td>U11</td>\n",
              "      <td>M25</td>\n",
              "      <td>93008</td>\n",
              "      <td>83000</td>\n",
              "      <td>173000</td>\n",
              "      <td>25</td>\n",
              "      <td>55</td>\n",
              "      <td>15455</td>\n",
              "      <td>13558</td>\n",
              "    </tr>\n",
              "  </tbody>\n",
              "</table>\n",
              "<p>389 rows × 9 columns</p>\n",
              "</div>"
            ],
            "text/plain": [
              "    User_ID Machine_ID   Date  Start_Time  ... Avg_UP Max_UP Keystrokes CPU_Usage\n",
              "0       U01        M01  90108       80010  ...     22     70      12345     12098\n",
              "1       U03        M03  90108       82010  ...     22     70      12345     12098\n",
              "2       U05        M05  90108       82310  ...     22     70      12345     12098\n",
              "3       U07        M07  90108       80010  ...     22     70      12345     12098\n",
              "4       U09        M09  90108       81040  ...     22     70      12345     12098\n",
              "..      ...        ...    ...         ...  ...    ...    ...        ...       ...\n",
              "930     U07        M07  93008       83000  ...     25     55      15455     13558\n",
              "931     U08        M08  93008       83000  ...     25     55      15455     13558\n",
              "932     U09        M09  93008       83000  ...     25     55      15455     13558\n",
              "933     U10        M30  93008       83000  ...     25     55      15455     13558\n",
              "934     U11        M25  93008       83000  ...     25     55      15455     13558\n",
              "\n",
              "[389 rows x 9 columns]"
            ]
          },
          "metadata": {
            "tags": []
          },
          "execution_count": 56
        }
      ]
    },
    {
      "cell_type": "markdown",
      "metadata": {
        "id": "j22qNGEIaXxd"
      },
      "source": [
        "### **Working Hours Pattern**"
      ]
    },
    {
      "cell_type": "code",
      "metadata": {
        "colab": {
          "base_uri": "https://localhost:8080/"
        },
        "id": "c4XgzqSfpbrN",
        "outputId": "ca9d805a-e8e1-4187-9142-f00486a3f564"
      },
      "source": [
        "#Duration\n",
        "df_login.loc[:,'Duration'] = ((df_login.End_Time.astype(str).str[:-4].astype(int) * 60)+ df_login.End_Time.astype(str).str[-4:-2].astype(int) )-( (df_login.Start_Time.astype(str).str[:-4].astype(int)* 60)+df_login.Start_Time.astype(str).str[-4:-2].astype(int))\n",
        "df_login.Duration "
      ],
      "execution_count": null,
      "outputs": [
        {
          "output_type": "execute_result",
          "data": {
            "text/plain": [
              "0      540\n",
              "1      540\n",
              "2      527\n",
              "3      540\n",
              "4      530\n",
              "      ... \n",
              "930    540\n",
              "931    540\n",
              "932    540\n",
              "933    540\n",
              "934    540\n",
              "Name: Duration, Length: 389, dtype: int64"
            ]
          },
          "metadata": {
            "tags": []
          },
          "execution_count": 57
        }
      ]
    },
    {
      "cell_type": "code",
      "metadata": {
        "id": "evGQhiJkYPDe"
      },
      "source": [
        "aggregation={\n",
        "         \"Duration\":\n",
        "    {\n",
        "        \"MIN\": lambda x: x.min(skipna=True),\n",
        "        \"MAX\":lambda x: x.max(skipna=True),\n",
        "        \"MEDIAN\":lambda x: x.median(skipna=True),\n",
        "        \"MEAN\":lambda x:x.mean(skipna=True)\n",
        "    }\n",
        "}\n"
      ],
      "execution_count": null,
      "outputs": []
    },
    {
      "cell_type": "code",
      "metadata": {
        "colab": {
          "base_uri": "https://localhost:8080/",
          "height": 638
        },
        "id": "_9VL60OsMid-",
        "outputId": "d63a3c05-77a5-4d97-e529-a9fec6d77ca8"
      },
      "source": [
        "import math\n",
        "df_duration = pd.DataFrame(df_login.groupby(['User_ID'])['Duration'].agg(minimum='min',maximum = 'max',mean = 'mean').round(0)).reset_index()\n",
        "df_duration"
      ],
      "execution_count": null,
      "outputs": [
        {
          "output_type": "execute_result",
          "data": {
            "text/html": [
              "<div>\n",
              "<style scoped>\n",
              "    .dataframe tbody tr th:only-of-type {\n",
              "        vertical-align: middle;\n",
              "    }\n",
              "\n",
              "    .dataframe tbody tr th {\n",
              "        vertical-align: top;\n",
              "    }\n",
              "\n",
              "    .dataframe thead th {\n",
              "        text-align: right;\n",
              "    }\n",
              "</style>\n",
              "<table border=\"1\" class=\"dataframe\">\n",
              "  <thead>\n",
              "    <tr style=\"text-align: right;\">\n",
              "      <th></th>\n",
              "      <th>User_ID</th>\n",
              "      <th>minimum</th>\n",
              "      <th>maximum</th>\n",
              "      <th>mean</th>\n",
              "    </tr>\n",
              "  </thead>\n",
              "  <tbody>\n",
              "    <tr>\n",
              "      <th>0</th>\n",
              "      <td>U01</td>\n",
              "      <td>518</td>\n",
              "      <td>569</td>\n",
              "      <td>544.0</td>\n",
              "    </tr>\n",
              "    <tr>\n",
              "      <th>1</th>\n",
              "      <td>U02</td>\n",
              "      <td>185</td>\n",
              "      <td>673</td>\n",
              "      <td>474.0</td>\n",
              "    </tr>\n",
              "    <tr>\n",
              "      <th>2</th>\n",
              "      <td>U03</td>\n",
              "      <td>518</td>\n",
              "      <td>569</td>\n",
              "      <td>544.0</td>\n",
              "    </tr>\n",
              "    <tr>\n",
              "      <th>3</th>\n",
              "      <td>U04</td>\n",
              "      <td>185</td>\n",
              "      <td>673</td>\n",
              "      <td>470.0</td>\n",
              "    </tr>\n",
              "    <tr>\n",
              "      <th>4</th>\n",
              "      <td>U05</td>\n",
              "      <td>518</td>\n",
              "      <td>569</td>\n",
              "      <td>543.0</td>\n",
              "    </tr>\n",
              "    <tr>\n",
              "      <th>5</th>\n",
              "      <td>U06</td>\n",
              "      <td>185</td>\n",
              "      <td>673</td>\n",
              "      <td>470.0</td>\n",
              "    </tr>\n",
              "    <tr>\n",
              "      <th>6</th>\n",
              "      <td>U07</td>\n",
              "      <td>518</td>\n",
              "      <td>569</td>\n",
              "      <td>544.0</td>\n",
              "    </tr>\n",
              "    <tr>\n",
              "      <th>7</th>\n",
              "      <td>U08</td>\n",
              "      <td>185</td>\n",
              "      <td>673</td>\n",
              "      <td>470.0</td>\n",
              "    </tr>\n",
              "    <tr>\n",
              "      <th>8</th>\n",
              "      <td>U09</td>\n",
              "      <td>518</td>\n",
              "      <td>569</td>\n",
              "      <td>544.0</td>\n",
              "    </tr>\n",
              "    <tr>\n",
              "      <th>9</th>\n",
              "      <td>U10</td>\n",
              "      <td>185</td>\n",
              "      <td>673</td>\n",
              "      <td>470.0</td>\n",
              "    </tr>\n",
              "    <tr>\n",
              "      <th>10</th>\n",
              "      <td>U11</td>\n",
              "      <td>518</td>\n",
              "      <td>569</td>\n",
              "      <td>544.0</td>\n",
              "    </tr>\n",
              "    <tr>\n",
              "      <th>11</th>\n",
              "      <td>U12</td>\n",
              "      <td>58</td>\n",
              "      <td>720</td>\n",
              "      <td>413.0</td>\n",
              "    </tr>\n",
              "    <tr>\n",
              "      <th>12</th>\n",
              "      <td>U13</td>\n",
              "      <td>58</td>\n",
              "      <td>720</td>\n",
              "      <td>413.0</td>\n",
              "    </tr>\n",
              "    <tr>\n",
              "      <th>13</th>\n",
              "      <td>U14</td>\n",
              "      <td>58</td>\n",
              "      <td>720</td>\n",
              "      <td>413.0</td>\n",
              "    </tr>\n",
              "    <tr>\n",
              "      <th>14</th>\n",
              "      <td>U15</td>\n",
              "      <td>58</td>\n",
              "      <td>720</td>\n",
              "      <td>421.0</td>\n",
              "    </tr>\n",
              "    <tr>\n",
              "      <th>15</th>\n",
              "      <td>U16</td>\n",
              "      <td>58</td>\n",
              "      <td>720</td>\n",
              "      <td>413.0</td>\n",
              "    </tr>\n",
              "    <tr>\n",
              "      <th>16</th>\n",
              "      <td>U17</td>\n",
              "      <td>58</td>\n",
              "      <td>720</td>\n",
              "      <td>413.0</td>\n",
              "    </tr>\n",
              "    <tr>\n",
              "      <th>17</th>\n",
              "      <td>U18</td>\n",
              "      <td>240</td>\n",
              "      <td>720</td>\n",
              "      <td>520.0</td>\n",
              "    </tr>\n",
              "    <tr>\n",
              "      <th>18</th>\n",
              "      <td>U19</td>\n",
              "      <td>240</td>\n",
              "      <td>720</td>\n",
              "      <td>520.0</td>\n",
              "    </tr>\n",
              "  </tbody>\n",
              "</table>\n",
              "</div>"
            ],
            "text/plain": [
              "   User_ID  minimum  maximum   mean\n",
              "0      U01      518      569  544.0\n",
              "1      U02      185      673  474.0\n",
              "2      U03      518      569  544.0\n",
              "3      U04      185      673  470.0\n",
              "4      U05      518      569  543.0\n",
              "5      U06      185      673  470.0\n",
              "6      U07      518      569  544.0\n",
              "7      U08      185      673  470.0\n",
              "8      U09      518      569  544.0\n",
              "9      U10      185      673  470.0\n",
              "10     U11      518      569  544.0\n",
              "11     U12       58      720  413.0\n",
              "12     U13       58      720  413.0\n",
              "13     U14       58      720  413.0\n",
              "14     U15       58      720  421.0\n",
              "15     U16       58      720  413.0\n",
              "16     U17       58      720  413.0\n",
              "17     U18      240      720  520.0\n",
              "18     U19      240      720  520.0"
            ]
          },
          "metadata": {
            "tags": []
          },
          "execution_count": 59
        }
      ]
    },
    {
      "cell_type": "code",
      "metadata": {
        "colab": {
          "base_uri": "https://localhost:8080/"
        },
        "id": "dj97YDpxVgoc",
        "outputId": "e86e44df-e5f1-4de3-a8ab-4557ae9c4a37"
      },
      "source": [
        "km = KMeans(n_clusters=4)\n",
        "y_predicted = km.fit_predict(df_login[['Duration']])\n",
        "y_predicted"
      ],
      "execution_count": null,
      "outputs": [
        {
          "output_type": "execute_result",
          "data": {
            "text/plain": [
              "array([1, 1, 1, 1, 1, 1, 1, 1, 1, 1, 1, 0, 0, 0, 0, 0, 1, 1, 1, 1, 1, 1,\n",
              "       1, 1, 1, 1, 1, 1, 1, 1, 1, 1, 1, 1, 1, 2, 1, 2, 1, 2, 1, 2, 1, 1,\n",
              "       1, 1, 1, 1, 1, 1, 1, 1, 1, 1, 1, 1, 1, 1, 1, 1, 1, 3, 3, 3, 3, 3,\n",
              "       3, 1, 1, 1, 1, 1, 1, 0, 0, 0, 0, 0, 3, 3, 3, 3, 3, 3, 0, 0, 1, 1,\n",
              "       2, 2, 2, 2, 2, 2, 1, 1, 1, 1, 1, 1, 0, 0, 0, 0, 0, 1, 1, 1, 1, 1,\n",
              "       1, 1, 1, 1, 1, 1, 0, 0, 0, 0, 0, 0, 1, 1, 1, 1, 1, 1, 2, 2, 2, 2,\n",
              "       2, 3, 3, 3, 3, 3, 3, 1, 1, 1, 1, 1, 1, 1, 1, 1, 1, 1, 1, 1, 1, 1,\n",
              "       1, 1, 1, 1, 1, 1, 1, 1, 3, 3, 3, 3, 3, 3, 3, 3, 3, 3, 3, 0, 0, 2,\n",
              "       2, 2, 2, 2, 2, 2, 2, 1, 1, 1, 1, 1, 1, 0, 0, 0, 0, 0, 1, 1, 1, 1,\n",
              "       1, 1, 0, 0, 0, 0, 0, 0, 0, 0, 0, 0, 0, 2, 2, 2, 2, 2, 2, 1, 1, 1,\n",
              "       1, 1, 1, 0, 0, 0, 0, 0, 1, 1, 1, 1, 1, 1, 1, 1, 1, 1, 1, 1, 1, 1,\n",
              "       1, 1, 1, 1, 1, 1, 1, 1, 1, 1, 1, 1, 1, 1, 1, 1, 1, 1, 1, 1, 1, 1,\n",
              "       1, 1, 1, 1, 1, 1, 1, 1, 1, 1, 1, 1, 1, 1, 1, 1, 1, 1, 1, 1, 1, 1,\n",
              "       1, 1, 1, 1, 1, 1, 1, 1, 0, 0, 0, 0, 0, 0, 1, 1, 1, 1, 1, 1, 3, 3,\n",
              "       3, 3, 3, 3, 0, 0, 0, 0, 0, 1, 1, 1, 1, 1, 1, 1, 1, 1, 1, 1, 3, 3,\n",
              "       3, 3, 3, 3, 1, 1, 1, 1, 1, 1, 1, 1, 1, 1, 1, 1, 1, 1, 1, 1, 1, 1,\n",
              "       1, 2, 2, 1, 1, 1, 1, 1, 1, 1, 1, 1, 1, 1, 1, 1, 1, 1, 1, 1, 2, 2,\n",
              "       2, 2, 2, 2, 1, 1, 1, 1, 1, 1, 1, 1, 1, 1, 1], dtype=int32)"
            ]
          },
          "metadata": {
            "tags": []
          },
          "execution_count": 60
        }
      ]
    },
    {
      "cell_type": "code",
      "metadata": {
        "colab": {
          "base_uri": "https://localhost:8080/",
          "height": 439
        },
        "id": "TbQpJC5MV1CI",
        "outputId": "c3468979-5709-4b51-b930-e0cbe96b5a4e"
      },
      "source": [
        "df_login['cluster']=y_predicted\n",
        "df_login"
      ],
      "execution_count": null,
      "outputs": [
        {
          "output_type": "execute_result",
          "data": {
            "text/html": [
              "<div>\n",
              "<style scoped>\n",
              "    .dataframe tbody tr th:only-of-type {\n",
              "        vertical-align: middle;\n",
              "    }\n",
              "\n",
              "    .dataframe tbody tr th {\n",
              "        vertical-align: top;\n",
              "    }\n",
              "\n",
              "    .dataframe thead th {\n",
              "        text-align: right;\n",
              "    }\n",
              "</style>\n",
              "<table border=\"1\" class=\"dataframe\">\n",
              "  <thead>\n",
              "    <tr style=\"text-align: right;\">\n",
              "      <th></th>\n",
              "      <th>User_ID</th>\n",
              "      <th>Machine_ID</th>\n",
              "      <th>Date</th>\n",
              "      <th>Start_Time</th>\n",
              "      <th>End_Time</th>\n",
              "      <th>Avg_UP</th>\n",
              "      <th>Max_UP</th>\n",
              "      <th>Keystrokes</th>\n",
              "      <th>CPU_Usage</th>\n",
              "      <th>Duration</th>\n",
              "      <th>cluster</th>\n",
              "    </tr>\n",
              "  </thead>\n",
              "  <tbody>\n",
              "    <tr>\n",
              "      <th>0</th>\n",
              "      <td>U01</td>\n",
              "      <td>M01</td>\n",
              "      <td>90108</td>\n",
              "      <td>80010</td>\n",
              "      <td>170040</td>\n",
              "      <td>22</td>\n",
              "      <td>70</td>\n",
              "      <td>12345</td>\n",
              "      <td>12098</td>\n",
              "      <td>540</td>\n",
              "      <td>1</td>\n",
              "    </tr>\n",
              "    <tr>\n",
              "      <th>1</th>\n",
              "      <td>U03</td>\n",
              "      <td>M03</td>\n",
              "      <td>90108</td>\n",
              "      <td>82010</td>\n",
              "      <td>172040</td>\n",
              "      <td>22</td>\n",
              "      <td>70</td>\n",
              "      <td>12345</td>\n",
              "      <td>12098</td>\n",
              "      <td>540</td>\n",
              "      <td>1</td>\n",
              "    </tr>\n",
              "    <tr>\n",
              "      <th>2</th>\n",
              "      <td>U05</td>\n",
              "      <td>M05</td>\n",
              "      <td>90108</td>\n",
              "      <td>82310</td>\n",
              "      <td>171040</td>\n",
              "      <td>22</td>\n",
              "      <td>70</td>\n",
              "      <td>12345</td>\n",
              "      <td>12098</td>\n",
              "      <td>527</td>\n",
              "      <td>1</td>\n",
              "    </tr>\n",
              "    <tr>\n",
              "      <th>3</th>\n",
              "      <td>U07</td>\n",
              "      <td>M07</td>\n",
              "      <td>90108</td>\n",
              "      <td>80010</td>\n",
              "      <td>170040</td>\n",
              "      <td>22</td>\n",
              "      <td>70</td>\n",
              "      <td>12345</td>\n",
              "      <td>12098</td>\n",
              "      <td>540</td>\n",
              "      <td>1</td>\n",
              "    </tr>\n",
              "    <tr>\n",
              "      <th>4</th>\n",
              "      <td>U09</td>\n",
              "      <td>M09</td>\n",
              "      <td>90108</td>\n",
              "      <td>81040</td>\n",
              "      <td>170040</td>\n",
              "      <td>22</td>\n",
              "      <td>70</td>\n",
              "      <td>12345</td>\n",
              "      <td>12098</td>\n",
              "      <td>530</td>\n",
              "      <td>1</td>\n",
              "    </tr>\n",
              "    <tr>\n",
              "      <th>...</th>\n",
              "      <td>...</td>\n",
              "      <td>...</td>\n",
              "      <td>...</td>\n",
              "      <td>...</td>\n",
              "      <td>...</td>\n",
              "      <td>...</td>\n",
              "      <td>...</td>\n",
              "      <td>...</td>\n",
              "      <td>...</td>\n",
              "      <td>...</td>\n",
              "      <td>...</td>\n",
              "    </tr>\n",
              "    <tr>\n",
              "      <th>930</th>\n",
              "      <td>U07</td>\n",
              "      <td>M07</td>\n",
              "      <td>93008</td>\n",
              "      <td>83000</td>\n",
              "      <td>173000</td>\n",
              "      <td>25</td>\n",
              "      <td>55</td>\n",
              "      <td>15455</td>\n",
              "      <td>13558</td>\n",
              "      <td>540</td>\n",
              "      <td>1</td>\n",
              "    </tr>\n",
              "    <tr>\n",
              "      <th>931</th>\n",
              "      <td>U08</td>\n",
              "      <td>M08</td>\n",
              "      <td>93008</td>\n",
              "      <td>83000</td>\n",
              "      <td>173000</td>\n",
              "      <td>25</td>\n",
              "      <td>55</td>\n",
              "      <td>15455</td>\n",
              "      <td>13558</td>\n",
              "      <td>540</td>\n",
              "      <td>1</td>\n",
              "    </tr>\n",
              "    <tr>\n",
              "      <th>932</th>\n",
              "      <td>U09</td>\n",
              "      <td>M09</td>\n",
              "      <td>93008</td>\n",
              "      <td>83000</td>\n",
              "      <td>173000</td>\n",
              "      <td>25</td>\n",
              "      <td>55</td>\n",
              "      <td>15455</td>\n",
              "      <td>13558</td>\n",
              "      <td>540</td>\n",
              "      <td>1</td>\n",
              "    </tr>\n",
              "    <tr>\n",
              "      <th>933</th>\n",
              "      <td>U10</td>\n",
              "      <td>M30</td>\n",
              "      <td>93008</td>\n",
              "      <td>83000</td>\n",
              "      <td>173000</td>\n",
              "      <td>25</td>\n",
              "      <td>55</td>\n",
              "      <td>15455</td>\n",
              "      <td>13558</td>\n",
              "      <td>540</td>\n",
              "      <td>1</td>\n",
              "    </tr>\n",
              "    <tr>\n",
              "      <th>934</th>\n",
              "      <td>U11</td>\n",
              "      <td>M25</td>\n",
              "      <td>93008</td>\n",
              "      <td>83000</td>\n",
              "      <td>173000</td>\n",
              "      <td>25</td>\n",
              "      <td>55</td>\n",
              "      <td>15455</td>\n",
              "      <td>13558</td>\n",
              "      <td>540</td>\n",
              "      <td>1</td>\n",
              "    </tr>\n",
              "  </tbody>\n",
              "</table>\n",
              "<p>389 rows × 11 columns</p>\n",
              "</div>"
            ],
            "text/plain": [
              "    User_ID Machine_ID   Date  ...  CPU_Usage Duration cluster\n",
              "0       U01        M01  90108  ...      12098      540       1\n",
              "1       U03        M03  90108  ...      12098      540       1\n",
              "2       U05        M05  90108  ...      12098      527       1\n",
              "3       U07        M07  90108  ...      12098      540       1\n",
              "4       U09        M09  90108  ...      12098      530       1\n",
              "..      ...        ...    ...  ...        ...      ...     ...\n",
              "930     U07        M07  93008  ...      13558      540       1\n",
              "931     U08        M08  93008  ...      13558      540       1\n",
              "932     U09        M09  93008  ...      13558      540       1\n",
              "933     U10        M30  93008  ...      13558      540       1\n",
              "934     U11        M25  93008  ...      13558      540       1\n",
              "\n",
              "[389 rows x 11 columns]"
            ]
          },
          "metadata": {
            "tags": []
          },
          "execution_count": 61
        }
      ]
    },
    {
      "cell_type": "code",
      "metadata": {
        "colab": {
          "base_uri": "https://localhost:8080/"
        },
        "id": "3R_LTOPPfGUK",
        "outputId": "0c0fba54-74e3-470e-bed2-3813c48c2e9e"
      },
      "source": [
        "import scipy\n",
        "df_login.groupby(['User_ID'])['cluster'].agg(lambda x: scipy.stats.mode(x)[0])"
      ],
      "execution_count": null,
      "outputs": [
        {
          "output_type": "execute_result",
          "data": {
            "text/plain": [
              "User_ID\n",
              "U01    1\n",
              "U02    1\n",
              "U03    1\n",
              "U04    1\n",
              "U05    1\n",
              "U06    1\n",
              "U07    1\n",
              "U08    1\n",
              "U09    1\n",
              "U10    1\n",
              "U11    1\n",
              "U12    1\n",
              "U13    1\n",
              "U14    1\n",
              "U15    1\n",
              "U16    1\n",
              "U17    1\n",
              "U18    1\n",
              "U19    1\n",
              "Name: cluster, dtype: int32"
            ]
          },
          "metadata": {
            "tags": []
          },
          "execution_count": 62
        }
      ]
    },
    {
      "cell_type": "code",
      "metadata": {
        "colab": {
          "base_uri": "https://localhost:8080/"
        },
        "id": "gbZ7YmaEWF7L",
        "outputId": "56daf8fd-055e-44fe-b341-4c11b19659f0"
      },
      "source": [
        "km.cluster_centers_"
      ],
      "execution_count": null,
      "outputs": [
        {
          "output_type": "execute_result",
          "data": {
            "text/plain": [
              "array([[295.89473684],\n",
              "       [547.01574803],\n",
              "       [686.08108108],\n",
              "       [120.90243902]])"
            ]
          },
          "metadata": {
            "tags": []
          },
          "execution_count": 63
        }
      ]
    },
    {
      "cell_type": "code",
      "metadata": {
        "colab": {
          "base_uri": "https://localhost:8080/",
          "height": 285
        },
        "id": "4gm69iqvWLoK",
        "outputId": "c30ecd9d-7ff7-4e08-d551-e5b3bce96a82"
      },
      "source": [
        "plt.plot(km.cluster_centers_)"
      ],
      "execution_count": null,
      "outputs": [
        {
          "output_type": "execute_result",
          "data": {
            "text/plain": [
              "[<matplotlib.lines.Line2D at 0x7f42b8e0a990>]"
            ]
          },
          "metadata": {
            "tags": []
          },
          "execution_count": 64
        },
        {
          "output_type": "display_data",
          "data": {
            "image/png": "[encoded data removed]",
            "text/plain": [
              "<Figure size 432x288 with 1 Axes>"
            ]
          },
          "metadata": {
            "tags": []
          }
        }
      ]
    },
    {
      "cell_type": "code",
      "metadata": {
        "colab": {
          "base_uri": "https://localhost:8080/",
          "height": 845
        },
        "id": "JxXvtNjsWq6x",
        "outputId": "b26782f0-64bc-43eb-a277-7dad94bfc6ee"
      },
      "source": [
        "df1 = df_login[df_login.cluster==0]\n",
        "df2 = df_login[df_login.cluster==1]\n",
        "df3 = df_login[df_login.cluster==2]\n",
        "df4 = df_login[df_login.cluster==3]\n",
        "plt.figure(figsize=(15,20))\n",
        "plt.scatter(df1.Duration,df1.User_ID,color='green')\n",
        "plt.scatter(df2.Duration,df2.User_ID,color='red')\n",
        "plt.scatter(df3.Duration,df3.User_ID,color='black')\n",
        "plt.scatter(df4.Duration,df4.User_ID,color='blue')\n",
        "#plt.scatter(km.cluster_centers_[:,0],km.cluster_centers_[:,1],color='purple',marker='*',label='centroid')\n",
        "plt.xlabel('User ID')\n",
        "plt.ylabel('Duration')\n",
        "plt.legend()"
      ],
      "execution_count": null,
      "outputs": [
        {
          "output_type": "stream",
          "text": [
            "No handles with labels found to put in legend.\n"
          ],
          "name": "stderr"
        },
        {
          "output_type": "execute_result",
          "data": {
            "text/plain": [
              "<matplotlib.legend.Legend at 0x7f42b8d70e10>"
            ]
          },
          "metadata": {
            "tags": []
          },
          "execution_count": 65
        },
        {
          "output_type": "display_data",
          "data": {
            "image/png": "[encoded data removed]",
            "text/plain": [
              "<Figure size 1080x1440 with 1 Axes>"
            ]
          },
          "metadata": {
            "tags": []
          }
        }
      ]
    },
    {
      "cell_type": "code",
      "metadata": {
        "colab": {
          "base_uri": "https://localhost:8080/"
        },
        "id": "gLrNOlr1OZJR",
        "outputId": "324b7890-e2ab-4918-dd5f-a477fa6ecc5c"
      },
      "source": [
        "df_duration.groupby(['mean'])['User_ID'].apply(list)"
      ],
      "execution_count": null,
      "outputs": [
        {
          "output_type": "execute_result",
          "data": {
            "text/plain": [
              "mean\n",
              "413.0    [U12, U13, U14, U16, U17]\n",
              "421.0                        [U15]\n",
              "470.0         [U04, U06, U08, U10]\n",
              "474.0                        [U02]\n",
              "520.0                   [U18, U19]\n",
              "543.0                        [U05]\n",
              "544.0    [U01, U03, U07, U09, U11]\n",
              "Name: User_ID, dtype: object"
            ]
          },
          "metadata": {
            "tags": []
          },
          "execution_count": 67
        }
      ]
    },
    {
      "cell_type": "markdown",
      "metadata": {
        "id": "JYy12nWouvRY"
      },
      "source": [
        "**OneR**"
      ]
    },
    {
      "cell_type": "markdown",
      "metadata": {
        "id": "Q1v5xzyNuovY"
      },
      "source": [
        "![image.png](data:image/png;base64,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)"
      ]
    },
    {
      "cell_type": "markdown",
      "metadata": {
        "id": "yWVGF7kQiOEY"
      },
      "source": [
        " **K means**"
      ]
    },
    {
      "cell_type": "markdown",
      "metadata": {
        "id": "LcSV2U_1iTkN"
      },
      "source": [
        "![image.png](data:image/png;base64,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)"
      ]
    },
    {
      "cell_type": "markdown",
      "metadata": {
        "id": "cdGFENUGiil_"
      },
      "source": [
        "Group 1 : U01,U03,U05,U07,U09,U11\n",
        "\n"
      ]
    },
    {
      "cell_type": "code",
      "metadata": {
        "id": "mxEi6MVyenpv"
      },
      "source": [
        "\n",
        "from sklearn.cluster import KMeans\n",
        "import warnings\n",
        "warnings.filterwarnings(\"ignore\")\n",
        "# from tensorflow import contrib\n",
        "# from tf.contrib.factorization import KMeans\n",
        "# from tensorflow.examples.tutorials.mnist import input_data\n"
      ],
      "execution_count": null,
      "outputs": []
    },
    {
      "cell_type": "code",
      "metadata": {
        "id": "ovmoDdYU_qYR"
      },
      "source": [
        "kmeans_func=KMeans(n_clusters=4, init=\"k-means++\")\n",
        "kmeans_func.fit(df_duration.iloc[:,1:])"
      ],
      "execution_count": null,
      "outputs": []
    },
    {
      "cell_type": "code",
      "metadata": {
        "id": "pbImq5plawl6"
      },
      "source": [
        "fig, ax = plt.subplots(1, 1, figsize = (14, 10))\n",
        "f1 = df_login.User_ID.values\n",
        "f2 = df_login.Duration.values\n",
        "X = np.array(list(zip(f1, f2)))\n",
        "ax.set_title(\"\\n \\n  Scatter Plot \", fontsize = 15)\n",
        "ax.scatter(f1, f2, c='black', s=7)\n",
        "ax.set_xlabel(\" Users \", fontsize = 20)\n",
        "ax.set_ylabel(\" Working Hours \", fontsize = 20)\n",
        "plt.show()"
      ],
      "execution_count": null,
      "outputs": []
    },
    {
      "cell_type": "markdown",
      "metadata": {
        "id": "18JzMMqoZylL"
      },
      "source": [
        "### Login Patterns"
      ]
    },
    {
      "cell_type": "code",
      "metadata": {
        "id": "oajGT32AI6RK"
      },
      "source": [
        "fig, ax = plt.subplots(1, 1, figsize = (14, 10))\n",
        "f1 = df_login.User_ID.values\n",
        "f2 = df_login.Start_Time.values\n",
        "X = np.array(list(zip(f1, f2)))\n",
        "ax.set_title(\"\\n \\n  Scatter Plot \", fontsize = 15)\n",
        "ax.scatter(f1, f2, c='black', s=7)\n",
        "ax.set_xlabel(\" Users \", fontsize = 20)\n",
        "ax.set_ylabel(\" LoginTime \", fontsize = 20)\n",
        "plt.show()"
      ],
      "execution_count": null,
      "outputs": []
    },
    {
      "cell_type": "markdown",
      "metadata": {
        "id": "8xkwpYYTaNZy"
      },
      "source": [
        "### Logout Patterns"
      ]
    },
    {
      "cell_type": "code",
      "metadata": {
        "id": "07tfghGUKrUD"
      },
      "source": [
        "fig, ax = plt.subplots(1, 1, figsize = (14, 10))\n",
        "f1 = df_login.User_ID.values\n",
        "f2 = df_login.End_Time.values\n",
        "X = np.array(list(zip(f1, f2)))\n",
        "ax.set_title(\"\\n \\n  Scatter Plot \", fontsize = 15)\n",
        "ax.scatter(f1, f2, c='black', s=7)\n",
        "ax.set_xlabel(\" Users \", fontsize = 20)\n",
        "ax.set_ylabel(\" Logout Time \", fontsize = 20)\n",
        "plt.show()"
      ],
      "execution_count": null,
      "outputs": []
    },
    {
      "cell_type": "markdown",
      "metadata": {
        "id": "Tv7nwO45jfmE"
      },
      "source": [
        "###**Average user processes**"
      ]
    },
    {
      "cell_type": "code",
      "metadata": {
        "id": "mo6n89EDjnP7"
      },
      "source": [
        "fig, ax = plt.subplots(1, 1, figsize = (14, 10))\n",
        "f1 = df_login.User_ID.values\n",
        "f2 = df_login.Avg_UP.values\n",
        "X = np.array(list(zip(f1, f2)))\n",
        "ax.set_title(\"\\n \\n  Scatter Plot \", fontsize = 15)\n",
        "ax.scatter(f1, f2, c='black', s=7)\n",
        "ax.set_xlabel(\" Users \", fontsize = 20)\n",
        "ax.set_ylabel(\" Average User Process \", fontsize = 20)\n",
        "plt.show()"
      ],
      "execution_count": null,
      "outputs": []
    },
    {
      "cell_type": "markdown",
      "metadata": {
        "id": "wOuQBk8ujzD_"
      },
      "source": [
        "### **Max User Process**"
      ]
    },
    {
      "cell_type": "code",
      "metadata": {
        "id": "XzWefTqXj48T"
      },
      "source": [
        "fig, ax = plt.subplots(1, 1, figsize = (14, 10))\n",
        "f1 = df_login.User_ID.values\n",
        "f2 = df_login.Max_UP.values\n",
        "X = np.array(list(zip(f1, f2)))\n",
        "ax.set_title(\"\\n \\n  Scatter Plot \", fontsize = 15)\n",
        "ax.scatter(f1, f2, c='black', s=7)\n",
        "ax.set_xlabel(\" Users \", fontsize = 20)\n",
        "ax.set_ylabel(\" Max User Process \", fontsize = 20)\n",
        "plt.show()"
      ],
      "execution_count": null,
      "outputs": []
    },
    {
      "cell_type": "code",
      "metadata": {
        "id": "kwWsAxJGkEcD"
      },
      "source": [
        "fig, ax = plt.subplots(1, 1, figsize = (14, 10))\n",
        "f1 = df_login.User_ID.values\n",
        "f2 = df_login.Keystrokes.values\n",
        "X = np.array(list(zip(f1, f2)))\n",
        "ax.set_title(\"\\n \\n  Scatter Plot \", fontsize = 15)\n",
        "ax.scatter(f1, f2, c='black', s=7)\n",
        "ax.set_xlabel(\" Users \", fontsize = 20)\n",
        "ax.set_ylabel(\" Keystrokes \", fontsize = 20)\n",
        "plt.show()"
      ],
      "execution_count": null,
      "outputs": []
    },
    {
      "cell_type": "code",
      "metadata": {
        "id": "8VxpXUWBkK0K"
      },
      "source": [
        "fig, ax = plt.subplots(1, 1, figsize = (14, 10))\n",
        "f1 = df_login.User_ID.values\n",
        "f2 = df_login.CPU_Usage.values\n",
        "X = np.array(list(zip(f1, f2)))\n",
        "ax.set_title(\"\\n \\n  Scatter Plot \", fontsize = 15)\n",
        "ax.scatter(f1, f2, c='black', s=7)\n",
        "ax.set_xlabel(\" Users \", fontsize = 20)\n",
        "ax.set_ylabel(\" CPU usage \", fontsize = 20)\n",
        "plt.show()"
      ],
      "execution_count": null,
      "outputs": []
    },
    {
      "cell_type": "code",
      "metadata": {
        "id": "INyhJyR5iJqr"
      },
      "source": [
        "df_login"
      ],
      "execution_count": null,
      "outputs": []
    },
    {
      "cell_type": "code",
      "metadata": {
        "id": "1C-sSe8-AQSQ"
      },
      "source": [
        "df_login.to_csv('df_login.csv',index=False)"
      ],
      "execution_count": null,
      "outputs": []
    },
    {
      "cell_type": "markdown",
      "metadata": {
        "id": "DKds35Knf5UR"
      },
      "source": [
        "## **User Program Patterns**"
      ]
    },
    {
      "cell_type": "code",
      "metadata": {
        "id": "-OEp8edAg0km"
      },
      "source": [
        "data = pd.read_csv(\"https://raw.githubusercontent.com/Abhiramnaidu1/Data_Mining/main/project_data.csv\", header=None)\n",
        "df_UP = data.iloc[:,0:9]\n",
        "df_UP.columns = ['S.no','User','Machine','Date','Start Time','Program','Execution time','File','File Access']"
      ],
      "execution_count": null,
      "outputs": []
    },
    {
      "cell_type": "code",
      "metadata": {
        "id": "bUrxpXphhrc9"
      },
      "source": [
        "df_UP = df_UP[df_UP[\"Program\"].str.contains(\"(UP)\\w+\")]"
      ],
      "execution_count": null,
      "outputs": []
    },
    {
      "cell_type": "code",
      "metadata": {
        "id": "uuquTrYhhwL9"
      },
      "source": [
        "df_UP"
      ],
      "execution_count": null,
      "outputs": []
    },
    {
      "cell_type": "markdown",
      "metadata": {
        "id": "yVXvs279gOFM"
      },
      "source": [
        "### **User Programs pattern**"
      ]
    },
    {
      "cell_type": "code",
      "metadata": {
        "id": "k81yZGfEfn5w"
      },
      "source": [
        "fig, ax = plt.subplots(1, 1, figsize = (14, 10))\n",
        "f1 = df_UP.User.values\n",
        "f2 = df_UP.Program.values\n",
        "X = np.array(list(zip(f1, f2)))\n",
        "ax.set_title(\"\\n \\n  Scatter Plot \", fontsize = 15)\n",
        "ax.scatter(f1, f2, c='black', s=7)\n",
        "ax.set_xlabel(\" Users \", fontsize = 20)\n",
        "ax.set_ylabel(\" Program \", fontsize = 20)\n",
        "plt.show()"
      ],
      "execution_count": null,
      "outputs": []
    },
    {
      "cell_type": "markdown",
      "metadata": {
        "id": "MAqr9CcAhAwe"
      },
      "source": [
        "### **User Execution Time**"
      ]
    },
    {
      "cell_type": "code",
      "metadata": {
        "id": "oShJH_KjgWVR"
      },
      "source": [
        "fig, ax = plt.subplots(1, 1, figsize = (14, 10))\n",
        "f1 = df_UP.User.values\n",
        "f2 = df_UP['Execution time'].values\n",
        "X = np.array(list(zip(f1, f2)))\n",
        "ax.set_title(\"\\n \\n  Scatter Plot \", fontsize = 15)\n",
        "ax.scatter(f1, f2, c='black', s=7)\n",
        "ax.set_xlabel(\" Users \", fontsize = 20)\n",
        "ax.set_ylabel(\" Execution Time \", fontsize = 20)\n",
        "plt.show()"
      ],
      "execution_count": null,
      "outputs": []
    },
    {
      "cell_type": "markdown",
      "metadata": {
        "id": "_BqTO2A6hXlA"
      },
      "source": [
        "### **Programs and Execution time pattern**"
      ]
    },
    {
      "cell_type": "code",
      "metadata": {
        "id": "V3X7CHTPhMBJ"
      },
      "source": [
        "fig, ax = plt.subplots(1, 1, figsize = (14, 10))\n",
        "f1 = df_UP.Program.values\n",
        "f2 = df_UP['Execution time'].values\n",
        "X = np.array(list(zip(f1, f2)))\n",
        "ax.set_title(\"\\n \\n  Scatter Plot \", fontsize = 15)\n",
        "ax.scatter(f1, f2, c='black', s=7)\n",
        "ax.set_xlabel(\" Programs \", fontsize = 20)\n",
        "ax.set_ylabel(\" Execution Time \", fontsize = 20)\n",
        "plt.show()"
      ],
      "execution_count": null,
      "outputs": []
    },
    {
      "cell_type": "markdown",
      "metadata": {
        "id": "T_F7KSKxgRoy"
      },
      "source": [
        "## **File Access Patterns**"
      ]
    },
    {
      "cell_type": "code",
      "metadata": {
        "id": "m-vpGSbJiSec"
      },
      "source": [
        "data = pd.read_csv(\"https://raw.githubusercontent.com/Abhiramnaidu1/Data_Mining/main/project_data.csv\", header=None)\n",
        "df_FA = data.iloc[:,0:9]\n",
        "df_FA.columns = ['S.no','User','Machine','Date','Start Time','Program','Execution time','File','File Access']\n",
        "df_FA =df_FA[df_FA['S.no']== 2]"
      ],
      "execution_count": null,
      "outputs": []
    },
    {
      "cell_type": "code",
      "metadata": {
        "id": "z0hcW7GAijnv"
      },
      "source": [
        "df_FA\n",
        "# df_FA[df_FA['Max User Process'] == 'F0070']"
      ],
      "execution_count": null,
      "outputs": []
    },
    {
      "cell_type": "markdown",
      "metadata": {
        "id": "mUFhU6H0pW2B"
      },
      "source": [
        "### **Users and Files pattern**"
      ]
    },
    {
      "cell_type": "code",
      "metadata": {
        "id": "YipDxT10oxt-"
      },
      "source": [
        "fig, ax = plt.subplots(1, 1, figsize = (14, 10))\n",
        "f1 = df_FA.User.values\n",
        "f2 = df_FA['File'].values\n",
        "X = np.array(list(zip(f1, f2)))\n",
        "ax.set_title(\"\\n \\n  Scatter Plot \", fontsize = 15)\n",
        "ax.scatter(f1, f2, c='black', s=7)\n",
        "ax.set_xlabel(\" User \", fontsize = 20)\n",
        "ax.set_ylabel(\" Files \", fontsize = 20)\n",
        "plt.show()"
      ],
      "execution_count": null,
      "outputs": []
    },
    {
      "cell_type": "markdown",
      "metadata": {
        "id": "Z0VbkBZuperb"
      },
      "source": [
        "### **Users and Programs pattern**"
      ]
    },
    {
      "cell_type": "code",
      "metadata": {
        "id": "2YX-sO2HpLGi"
      },
      "source": [
        "fig, ax = plt.subplots(1, 1, figsize = (14, 10))\n",
        "f1 = df_FA.User.values\n",
        "f2 = df_FA.Program.values\n",
        "X = np.array(list(zip(f1, f2)))\n",
        "ax.set_title(\"\\n \\n  Scatter Plot \", fontsize = 15)\n",
        "ax.scatter(f1, f2, c='black', s=7)\n",
        "ax.set_xlabel(\" User \", fontsize = 20)\n",
        "ax.set_ylabel(\" Programs \", fontsize = 20)\n",
        "plt.show()"
      ],
      "execution_count": null,
      "outputs": []
    },
    {
      "cell_type": "markdown",
      "metadata": {
        "id": "CWgoC6ANph6A"
      },
      "source": [
        "### **Users and File Access pattern**"
      ]
    },
    {
      "cell_type": "code",
      "metadata": {
        "id": "aCu3IEQTphV3"
      },
      "source": [
        "fig, ax = plt.subplots(1, 1, figsize = (14, 10))\n",
        "f1 = df_FA.User.values\n",
        "f2 = df_FA['File Access'].values\n",
        "X = np.array(list(zip(f1, f2)))\n",
        "ax.set_title(\"\\n \\n  Scatter Plot \", fontsize = 15)\n",
        "ax.scatter(f1, f2, c='black', s=7)\n",
        "ax.set_xlabel(\" User \", fontsize = 20)\n",
        "ax.set_ylabel(\" File Access \", fontsize = 20)\n",
        "plt.show()"
      ],
      "execution_count": null,
      "outputs": []
    },
    {
      "cell_type": "markdown",
      "metadata": {
        "id": "WMS7Rl_kgcdd"
      },
      "source": [
        "## **Printer Usage Patterns**"
      ]
    },
    {
      "cell_type": "code",
      "metadata": {
        "id": "vkheKyBIEic4"
      },
      "source": [
        "\n",
        "data = pd.read_csv(\"https://raw.githubusercontent.com/Abhiramnaidu1/Data_Mining/main/project_data.csv\", header=None)\n",
        "data = data.iloc[:,0:11]\n",
        "data.columns = ['S.no','UserId','Machine ID','Date','Start Time','End Time','Average user process','Max User Process','keystrokes','CPU usage','page']\n",
        "data"
      ],
      "execution_count": null,
      "outputs": []
    },
    {
      "cell_type": "code",
      "metadata": {
        "id": "OINA1aZ6irB0"
      },
      "source": [
        "data['CPU usage'] = data['CPU usage'].fillna('a')\n",
        "\n",
        "warnings.filterwarnings(\"ignore\", 'This pattern has match groups')\n",
        "df_PA = data[data['CPU usage'].str.contains(\"^(PR)\\w+\")]\n",
        "df_PA.columns = ['S.no','UserId','Machine ID','Date','Start Time','Program','Execution Time','File','Access','Printer','Pages']\n",
        "df_PA = df_PA.iloc[:,[1,2,3,4, 9,10]]\n",
        "df_PA['Pages'] = pd.to_numeric(df_PA['Pages'])\n",
        "df_PA_grouped = df_PA.groupby('Printer')['UserId'].unique().apply(list)\n",
        "df_PA_grouped\n"
      ],
      "execution_count": null,
      "outputs": []
    },
    {
      "cell_type": "code",
      "metadata": {
        "id": "1zfE5SdwwJqb"
      },
      "source": [
        "\n",
        "f1 = df_PA.UserId.values\n",
        "f2 = df_PA.Printer.values\n",
        "f3 = df_PA.Pages.values\n",
        "X = np.array(list(zip(f1, f2)))\n",
        "fig, ax = plt.subplots(3, 1, figsize = (15, 10))\n",
        "ax[0].set_title(\"\\n \\n  Scatter Plot \", fontsize = 15)\n",
        "ax[0].scatter(f1, f3, c='black', s=7)\n",
        "ax[0].set_xlabel(\" Users \", fontsize = 10)\n",
        "ax[0].set_ylabel(\" Pages \", fontsize = 10)\n",
        "ax[1].set_title(\"\\n \\n  Scatter Plot \", fontsize = 15)\n",
        "ax[1].scatter(f1, f2, c='black', s=7)\n",
        "ax[1].set_xlabel(\" Users \", fontsize = 10)\n",
        "ax[1].set_ylabel(\" Printer \", fontsize = 10)\n",
        "ax[1].set_title(\"\\n \\n  Scatter Plot \", fontsize = 15)\n",
        "ax[2].scatter(f2, f3, c='black', s=7)\n",
        "ax[2].set_xlabel(\" Printer \", fontsize = 10)\n",
        "ax[2].set_ylabel(\" Pages \", fontsize = 10)\n",
        "plt.show()"
      ],
      "execution_count": null,
      "outputs": []
    },
    {
      "cell_type": "code",
      "metadata": {
        "id": "wLOhOuOskoFO"
      },
      "source": [
        "\n",
        "df_detail = df_PA.groupby('UserId').agg({'Pages':['max', 'min', 'mean', lambda x: pd.Series.mode(x)[0]], 'Printer':[lambda x: pd.Series.mode(x)[0]]})\n",
        "df_detail = df_detail.reset_index()\n",
        "df_detail.columns = df_detail.columns.get_level_values(0)\n",
        "df_detail.columns = ['UserId', 'num_page_max', 'num_page_min', 'num_page_avg', 'often_pages_count', 'frequent(closest/prefered)']\n",
        "df_detail\n",
        "# df_detail.to_csv('printer_details.csv')\n"
      ],
      "execution_count": null,
      "outputs": []
    },
    {
      "cell_type": "markdown",
      "metadata": {
        "id": "6msnyYx1gqf5"
      },
      "source": [
        "## **Email Patterns**"
      ]
    },
    {
      "cell_type": "code",
      "metadata": {
        "id": "1F8Ji4yNi-hF"
      },
      "source": [
        "import numpy as np\n",
        "import pandas as pd\n",
        "data = pd.read_csv(\"https://raw.githubusercontent.com/Abhiramnaidu1/Data_Mining/main/project_data.csv\", header=None)\n",
        "data = data.iloc[:,0:11]\n",
        "data.columns = ['S.no','UserId','Machine ID','Date','Start Time','End Time','Average user process','Max User Process','keystrokes','CPU usage','page']\n",
        "\n",
        "warnings.filterwarnings(\"ignore\", 'This pattern has match groups')\n",
        "df_email = data[data[\"End Time\"].str.contains(\"(E)\\w\")]\n",
        "# df_email = df_email[df_email['UserId'] == 'U04']\n",
        "# df_email"
      ],
      "execution_count": null,
      "outputs": []
    },
    {
      "cell_type": "code",
      "metadata": {
        "id": "PCzNuQeophMj"
      },
      "source": [
        "def iterate_email(x):\n",
        "  df_action_group = x.group_by(['Sent/Receive'])"
      ],
      "execution_count": null,
      "outputs": []
    },
    {
      "cell_type": "code",
      "metadata": {
        "id": "UhZXMsMqjEBJ",
        "colab": {
          "base_uri": "https://localhost:8080/",
          "height": 504
        },
        "outputId": "1e853712-4390-4e41-d6f9-ad1ca9ee2cd0"
      },
      "source": [
        "df_emails = df_email.iloc[:,0:10]\n",
        "df_emails.columns = ['S.no','UserId','Machine ID','Date','Start Time','Email Program','Email Address','Sent/Receive','Bytes','Attachment']\n",
        "\n",
        "#df_emails = df_emails.groupby('Email Address')['UserId'].unique().apply(list)\n",
        "\n",
        "df_emails_userids = df_emails.groupby(['Sent/Receive','Email Address'])['UserId'].unique().apply(list)\n",
        "df_emails_userids \n",
        "\n",
        "df_rows = []\n",
        "\n",
        "df_emails_userids = df_emails_userids.groupby(['Sent/Receive','Email Address'])\n",
        "for name, group in df_emails_userids:\n",
        "  print(name)\n",
        "  for row_index, row in group.iteritems():\n",
        "   print(row)\n",
        "   df_row = { 'Email Address': name[1], 'Sent/Receive': name[0], 'UserIds' : \",\".join(row) }\n",
        "   df_rows.append(df_row)\n",
        "\n",
        "df_email_groups = pd.DataFrame(df_rows)\n",
        "df_email_groups"
      ],
      "execution_count": null,
      "outputs": [
        {
          "output_type": "stream",
          "text": [
            "('R', 'bob@xyz.com')\n",
            "['U15', 'U16', 'U17', 'U18', 'U19']\n",
            "('R', 'mom@icare.com')\n",
            "['U06', 'U08', 'U10']\n",
            "('R', 'smith@abc.org')\n",
            "['U06', 'U08', 'U10']\n",
            "('S', 'jones@pqr.com')\n",
            "['U01', 'U02', 'U03', 'U05', 'U04']\n",
            "('S', 'mom@icare.com')\n",
            "['U02', 'U04']\n",
            "('S', 'smith@abc.org')\n",
            "['U07', 'U09']\n",
            "('S', 'xyz@sai.org')\n",
            "['U11', 'U12', 'U13', 'U14']\n"
          ],
          "name": "stdout"
        },
        {
          "output_type": "execute_result",
          "data": {
            "text/html": [
              "<div>\n",
              "<style scoped>\n",
              "    .dataframe tbody tr th:only-of-type {\n",
              "        vertical-align: middle;\n",
              "    }\n",
              "\n",
              "    .dataframe tbody tr th {\n",
              "        vertical-align: top;\n",
              "    }\n",
              "\n",
              "    .dataframe thead th {\n",
              "        text-align: right;\n",
              "    }\n",
              "</style>\n",
              "<table border=\"1\" class=\"dataframe\">\n",
              "  <thead>\n",
              "    <tr style=\"text-align: right;\">\n",
              "      <th></th>\n",
              "      <th>Email Address</th>\n",
              "      <th>Sent/Receive</th>\n",
              "      <th>UserIds</th>\n",
              "    </tr>\n",
              "  </thead>\n",
              "  <tbody>\n",
              "    <tr>\n",
              "      <th>0</th>\n",
              "      <td>bob@xyz.com</td>\n",
              "      <td>R</td>\n",
              "      <td>U15,U16,U17,U18,U19</td>\n",
              "    </tr>\n",
              "    <tr>\n",
              "      <th>1</th>\n",
              "      <td>mom@icare.com</td>\n",
              "      <td>R</td>\n",
              "      <td>U06,U08,U10</td>\n",
              "    </tr>\n",
              "    <tr>\n",
              "      <th>2</th>\n",
              "      <td>smith@abc.org</td>\n",
              "      <td>R</td>\n",
              "      <td>U06,U08,U10</td>\n",
              "    </tr>\n",
              "    <tr>\n",
              "      <th>3</th>\n",
              "      <td>jones@pqr.com</td>\n",
              "      <td>S</td>\n",
              "      <td>U01,U02,U03,U05,U04</td>\n",
              "    </tr>\n",
              "    <tr>\n",
              "      <th>4</th>\n",
              "      <td>mom@icare.com</td>\n",
              "      <td>S</td>\n",
              "      <td>U02,U04</td>\n",
              "    </tr>\n",
              "    <tr>\n",
              "      <th>5</th>\n",
              "      <td>smith@abc.org</td>\n",
              "      <td>S</td>\n",
              "      <td>U07,U09</td>\n",
              "    </tr>\n",
              "    <tr>\n",
              "      <th>6</th>\n",
              "      <td>xyz@sai.org</td>\n",
              "      <td>S</td>\n",
              "      <td>U11,U12,U13,U14</td>\n",
              "    </tr>\n",
              "  </tbody>\n",
              "</table>\n",
              "</div>"
            ],
            "text/plain": [
              "   Email Address Sent/Receive              UserIds\n",
              "0    bob@xyz.com            R  U15,U16,U17,U18,U19\n",
              "1  mom@icare.com            R          U06,U08,U10\n",
              "2  smith@abc.org            R          U06,U08,U10\n",
              "3  jones@pqr.com            S  U01,U02,U03,U05,U04\n",
              "4  mom@icare.com            S              U02,U04\n",
              "5  smith@abc.org            S              U07,U09\n",
              "6    xyz@sai.org            S      U11,U12,U13,U14"
            ]
          },
          "metadata": {
            "tags": []
          },
          "execution_count": 5
        }
      ]
    },
    {
      "cell_type": "code",
      "metadata": {
        "id": "SZTQ1YXIQQKP"
      },
      "source": [
        ""
      ],
      "execution_count": null,
      "outputs": []
    },
    {
      "cell_type": "markdown",
      "metadata": {
        "id": "53MZ1uLugyxp"
      },
      "source": [
        "## **Machine Usage Patterns**"
      ]
    },
    {
      "cell_type": "code",
      "metadata": {
        "id": "7sN2I-_UjKsA"
      },
      "source": [
        "df_machine = data[data[\"Machine ID\"].str.contains(\"(M)\\w+\")]"
      ],
      "execution_count": null,
      "outputs": []
    },
    {
      "cell_type": "code",
      "metadata": {
        "id": "-iKDMZoYjTrT"
      },
      "source": [
        "df_machine"
      ],
      "execution_count": null,
      "outputs": []
    }
  ]
}